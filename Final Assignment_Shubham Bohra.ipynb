#display the output
print("new python file")
Final Assignment_Shubham Bohra.ipynb
